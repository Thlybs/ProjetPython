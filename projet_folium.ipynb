{
 "cells": [
  {
   "cell_type": "code",
   "execution_count": 1,
   "metadata": {},
   "outputs": [],
   "source": [
    "import numpy as np \n",
    "import pandas as pd "
   ]
  },
  {
   "cell_type": "code",
   "execution_count": 2,
   "metadata": {},
   "outputs": [
    {
     "name": "stderr",
     "output_type": "stream",
     "text": [
      "/tmp/ipykernel_574/2820999446.py:1: DtypeWarning: Columns (10,12,14,17,18,20,22,24,35,36) have mixed types. Specify dtype option on import or set low_memory=False.\n",
      "  df = pd.read_csv(\"https://files.data.gouv.fr/geo-dvf/latest/csv/2021/full.csv.gz\")\n"
     ]
    }
   ],
   "source": [
    "df = pd.read_csv(\"https://files.data.gouv.fr/geo-dvf/latest/csv/2021/full.csv.gz\")"
   ]
  },
  {
   "cell_type": "markdown",
   "metadata": {},
   "source": [
    "On sélectionne les départements de la Nouvelle-Aquitaine"
   ]
  },
  {
   "cell_type": "code",
   "execution_count": 3,
   "metadata": {},
   "outputs": [],
   "source": [
    "#df = df[df['code_departement'].isin([1, 3, 7, 15, 26, 38, 42, 43, 63, 69, 73, 74])]\n",
    "df = df[df['code_departement'].isin([16, 17, 19, 23, 24, 33, 40, 47, 64, 79, 86, 87])]\n"
   ]
  },
  {
   "cell_type": "markdown",
   "metadata": {},
   "source": [
    "On ne garde que les ventes, les lignes à 0 ou 1 lot.\n",
    "\n",
    "On ne garde que les lignes dont la surface terrain et la valeur foncière sont bien définies et non nulles."
   ]
  },
  {
   "cell_type": "code",
   "execution_count": 4,
   "metadata": {},
   "outputs": [],
   "source": [
    "df = df[df['nature_mutation'].isin([\"Vente\", \"Vente en l'état futur d'achèvement\"])]\n",
    "df = df[df['nombre_lots'].isin([0, 1])]\n",
    "df = df.dropna(subset=['surface_terrain', 'surface_reelle_bati', 'valeur_fonciere', 'latitude', 'longitude'])\n",
    "df = df[~(df['surface_terrain'] == 0)]\n",
    "df = df[~(df['valeur_fonciere'] == 0)]\n"
   ]
  },
  {
   "cell_type": "markdown",
   "metadata": {},
   "source": [
    "On ne retient que les colonnes qui nous intéressent, et on réinitialise l'indexage."
   ]
  },
  {
   "cell_type": "code",
   "execution_count": 5,
   "metadata": {},
   "outputs": [],
   "source": [
    "df = df[['valeur_fonciere', 'code_postal', 'code_commune',\n",
    "       'nom_commune', 'code_departement', 'type_local',\n",
    "       'surface_reelle_bati', 'nombre_pieces_principales',\n",
    "       'surface_terrain', 'longitude', 'latitude']]\n",
    "\n",
    "df = df.reset_index(drop=True)"
   ]
  },
  {
   "cell_type": "markdown",
   "metadata": {},
   "source": [
    "Dans les cases suivantes, on va chercher à calculer pour chaque entrée le prix moyen du voisinage.\n",
    "\n",
    "On définit le voisinage comme les dix ventes les plus proches d'une entrée.\n",
    "\n",
    "On fait appel à une structure BallTree pour déterminer, pour chaque entrée, les dix ventes les plus proches. "
   ]
  },
  {
   "cell_type": "code",
   "execution_count": 6,
   "metadata": {},
   "outputs": [],
   "source": [
    "df[\"prix_m2\"] = df.apply(lambda row: row['valeur_fonciere'] / row['surface_reelle_bati'], axis=1)\n",
    "df['prix_m2_voisinage'] = np.zeros(len(df))"
   ]
  },
  {
   "cell_type": "code",
   "execution_count": 7,
   "metadata": {},
   "outputs": [],
   "source": [
    "from sklearn.neighbors import BallTree\n",
    "\n",
    "tree = BallTree(df[['latitude', 'longitude']].values, metric='haversine')"
   ]
  },
  {
   "cell_type": "code",
   "execution_count": 8,
   "metadata": {},
   "outputs": [],
   "source": [
    "indices_array = tree.query(df[['latitude', 'longitude']].values, k=11, return_distance=False)"
   ]
  },
  {
   "cell_type": "code",
   "execution_count": 9,
   "metadata": {},
   "outputs": [],
   "source": [
    "for i, indices in enumerate(indices_array):\n",
    "    df.iloc[i, df.columns.get_loc('prix_m2_voisinage')] = df.iloc[indices[1:], df.columns.get_loc('prix_m2')].sum() / 10"
   ]
  },
  {
   "cell_type": "code",
   "execution_count": 10,
   "metadata": {},
   "outputs": [
    {
     "data": {
      "text/html": [
       "<div>\n",
       "<style scoped>\n",
       "    .dataframe tbody tr th:only-of-type {\n",
       "        vertical-align: middle;\n",
       "    }\n",
       "\n",
       "    .dataframe tbody tr th {\n",
       "        vertical-align: top;\n",
       "    }\n",
       "\n",
       "    .dataframe thead th {\n",
       "        text-align: right;\n",
       "    }\n",
       "</style>\n",
       "<table border=\"1\" class=\"dataframe\">\n",
       "  <thead>\n",
       "    <tr style=\"text-align: right;\">\n",
       "      <th></th>\n",
       "      <th>valeur_fonciere</th>\n",
       "      <th>code_postal</th>\n",
       "      <th>code_commune</th>\n",
       "      <th>nom_commune</th>\n",
       "      <th>code_departement</th>\n",
       "      <th>type_local</th>\n",
       "      <th>surface_reelle_bati</th>\n",
       "      <th>nombre_pieces_principales</th>\n",
       "      <th>surface_terrain</th>\n",
       "      <th>longitude</th>\n",
       "      <th>latitude</th>\n",
       "      <th>prix_m2</th>\n",
       "      <th>prix_m2_voisinage</th>\n",
       "    </tr>\n",
       "  </thead>\n",
       "  <tbody>\n",
       "    <tr>\n",
       "      <th>0</th>\n",
       "      <td>221000.0</td>\n",
       "      <td>16400.0</td>\n",
       "      <td>16418</td>\n",
       "      <td>Vœuil-et-Giget</td>\n",
       "      <td>16</td>\n",
       "      <td>Maison</td>\n",
       "      <td>80.0</td>\n",
       "      <td>4.0</td>\n",
       "      <td>880.0</td>\n",
       "      <td>0.156614</td>\n",
       "      <td>45.584987</td>\n",
       "      <td>2762.500000</td>\n",
       "      <td>3998.043925</td>\n",
       "    </tr>\n",
       "    <tr>\n",
       "      <th>1</th>\n",
       "      <td>221000.0</td>\n",
       "      <td>16400.0</td>\n",
       "      <td>16418</td>\n",
       "      <td>Vœuil-et-Giget</td>\n",
       "      <td>16</td>\n",
       "      <td>Maison</td>\n",
       "      <td>80.0</td>\n",
       "      <td>4.0</td>\n",
       "      <td>500.0</td>\n",
       "      <td>0.156614</td>\n",
       "      <td>45.584987</td>\n",
       "      <td>2762.500000</td>\n",
       "      <td>3998.043925</td>\n",
       "    </tr>\n",
       "    <tr>\n",
       "      <th>2</th>\n",
       "      <td>116500.0</td>\n",
       "      <td>16000.0</td>\n",
       "      <td>16015</td>\n",
       "      <td>Angoulême</td>\n",
       "      <td>16</td>\n",
       "      <td>Maison</td>\n",
       "      <td>88.0</td>\n",
       "      <td>5.0</td>\n",
       "      <td>58.0</td>\n",
       "      <td>0.176444</td>\n",
       "      <td>45.648704</td>\n",
       "      <td>1323.863636</td>\n",
       "      <td>3375.791865</td>\n",
       "    </tr>\n",
       "    <tr>\n",
       "      <th>3</th>\n",
       "      <td>126000.0</td>\n",
       "      <td>16340.0</td>\n",
       "      <td>16166</td>\n",
       "      <td>L'Isle-d'Espagnac</td>\n",
       "      <td>16</td>\n",
       "      <td>Maison</td>\n",
       "      <td>91.0</td>\n",
       "      <td>4.0</td>\n",
       "      <td>956.0</td>\n",
       "      <td>0.191596</td>\n",
       "      <td>45.661171</td>\n",
       "      <td>1384.615385</td>\n",
       "      <td>1525.448718</td>\n",
       "    </tr>\n",
       "    <tr>\n",
       "      <th>4</th>\n",
       "      <td>250000.0</td>\n",
       "      <td>16100.0</td>\n",
       "      <td>16102</td>\n",
       "      <td>Cognac</td>\n",
       "      <td>16</td>\n",
       "      <td>Maison</td>\n",
       "      <td>151.0</td>\n",
       "      <td>6.0</td>\n",
       "      <td>826.0</td>\n",
       "      <td>-0.309153</td>\n",
       "      <td>45.696703</td>\n",
       "      <td>1655.629139</td>\n",
       "      <td>1558.535327</td>\n",
       "    </tr>\n",
       "  </tbody>\n",
       "</table>\n",
       "</div>"
      ],
      "text/plain": [
       "   valeur_fonciere  code_postal code_commune        nom_commune  \\\n",
       "0         221000.0      16400.0        16418     Vœuil-et-Giget   \n",
       "1         221000.0      16400.0        16418     Vœuil-et-Giget   \n",
       "2         116500.0      16000.0        16015          Angoulême   \n",
       "3         126000.0      16340.0        16166  L'Isle-d'Espagnac   \n",
       "4         250000.0      16100.0        16102             Cognac   \n",
       "\n",
       "  code_departement type_local  surface_reelle_bati  nombre_pieces_principales  \\\n",
       "0               16     Maison                 80.0                        4.0   \n",
       "1               16     Maison                 80.0                        4.0   \n",
       "2               16     Maison                 88.0                        5.0   \n",
       "3               16     Maison                 91.0                        4.0   \n",
       "4               16     Maison                151.0                        6.0   \n",
       "\n",
       "   surface_terrain  longitude   latitude      prix_m2  prix_m2_voisinage  \n",
       "0            880.0   0.156614  45.584987  2762.500000        3998.043925  \n",
       "1            500.0   0.156614  45.584987  2762.500000        3998.043925  \n",
       "2             58.0   0.176444  45.648704  1323.863636        3375.791865  \n",
       "3            956.0   0.191596  45.661171  1384.615385        1525.448718  \n",
       "4            826.0  -0.309153  45.696703  1655.629139        1558.535327  "
      ]
     },
     "execution_count": 10,
     "metadata": {},
     "output_type": "execute_result"
    }
   ],
   "source": [
    "df.head()"
   ]
  },
  {
   "cell_type": "markdown",
   "metadata": {},
   "source": [
    "## Standardisation, dummy expansion"
   ]
  },
  {
   "cell_type": "markdown",
   "metadata": {},
   "source": [
    "On effectue une dummy expansion de la variable `type_local`."
   ]
  },
  {
   "cell_type": "code",
   "execution_count": 11,
   "metadata": {},
   "outputs": [],
   "source": [
    "df = pd.concat([df, pd.get_dummies(df[[\"type_local\"]])], axis=1)"
   ]
  },
  {
   "cell_type": "markdown",
   "metadata": {},
   "source": [
    "On standardise les variables `prix_m2`, `prix_m2_voisinage` et `valeur_fonciere`."
   ]
  },
  {
   "cell_type": "code",
   "execution_count": 12,
   "metadata": {},
   "outputs": [],
   "source": [
    "from sklearn.preprocessing import StandardScaler\n",
    "\n",
    "prix_m2_scaler = StandardScaler()\n",
    "prix_m2_scaled = prix_m2_scaler.fit_transform(df[[\"prix_m2\"]])\n",
    "\n",
    "prix_m2_voisinage_scaler = StandardScaler()\n",
    "prix_m2_voisinage_scaled = prix_m2_voisinage_scaler.fit_transform(df[[\"prix_m2_voisinage\"]])\n",
    "\n",
    "valeur_fonciere_scaler = StandardScaler()\n",
    "valeur_fonciere_scaled = valeur_fonciere_scaler.fit_transform(df[[\"valeur_fonciere\"]])"
   ]
  },
  {
   "cell_type": "code",
   "execution_count": 13,
   "metadata": {},
   "outputs": [],
   "source": [
    "df[[\"prix_m2_scaled\"]] = prix_m2_scaled\n",
    "df[[\"prix_m2_voisinage_scaled\"]] = prix_m2_voisinage_scaled\n",
    "df[[\"valeur_fonciere_scaled\"]] = valeur_fonciere_scaled"
   ]
  },
  {
   "cell_type": "code",
   "execution_count": 14,
   "metadata": {},
   "outputs": [
    {
     "data": {
      "text/html": [
       "<div>\n",
       "<style scoped>\n",
       "    .dataframe tbody tr th:only-of-type {\n",
       "        vertical-align: middle;\n",
       "    }\n",
       "\n",
       "    .dataframe tbody tr th {\n",
       "        vertical-align: top;\n",
       "    }\n",
       "\n",
       "    .dataframe thead th {\n",
       "        text-align: right;\n",
       "    }\n",
       "</style>\n",
       "<table border=\"1\" class=\"dataframe\">\n",
       "  <thead>\n",
       "    <tr style=\"text-align: right;\">\n",
       "      <th></th>\n",
       "      <th>valeur_fonciere</th>\n",
       "      <th>code_postal</th>\n",
       "      <th>code_commune</th>\n",
       "      <th>nom_commune</th>\n",
       "      <th>code_departement</th>\n",
       "      <th>type_local</th>\n",
       "      <th>surface_reelle_bati</th>\n",
       "      <th>nombre_pieces_principales</th>\n",
       "      <th>surface_terrain</th>\n",
       "      <th>longitude</th>\n",
       "      <th>latitude</th>\n",
       "      <th>prix_m2</th>\n",
       "      <th>prix_m2_voisinage</th>\n",
       "      <th>type_local_Appartement</th>\n",
       "      <th>type_local_Local industriel. commercial ou assimilé</th>\n",
       "      <th>type_local_Maison</th>\n",
       "      <th>prix_m2_scaled</th>\n",
       "      <th>prix_m2_voisinage_scaled</th>\n",
       "      <th>valeur_fonciere_scaled</th>\n",
       "    </tr>\n",
       "  </thead>\n",
       "  <tbody>\n",
       "    <tr>\n",
       "      <th>0</th>\n",
       "      <td>221000.0</td>\n",
       "      <td>16400.0</td>\n",
       "      <td>16418</td>\n",
       "      <td>Vœuil-et-Giget</td>\n",
       "      <td>16</td>\n",
       "      <td>Maison</td>\n",
       "      <td>80.0</td>\n",
       "      <td>4.0</td>\n",
       "      <td>880.0</td>\n",
       "      <td>0.156614</td>\n",
       "      <td>45.584987</td>\n",
       "      <td>2762.500000</td>\n",
       "      <td>3998.043925</td>\n",
       "      <td>0</td>\n",
       "      <td>0</td>\n",
       "      <td>1</td>\n",
       "      <td>-0.093247</td>\n",
       "      <td>-0.041854</td>\n",
       "      <td>-0.113376</td>\n",
       "    </tr>\n",
       "    <tr>\n",
       "      <th>1</th>\n",
       "      <td>221000.0</td>\n",
       "      <td>16400.0</td>\n",
       "      <td>16418</td>\n",
       "      <td>Vœuil-et-Giget</td>\n",
       "      <td>16</td>\n",
       "      <td>Maison</td>\n",
       "      <td>80.0</td>\n",
       "      <td>4.0</td>\n",
       "      <td>500.0</td>\n",
       "      <td>0.156614</td>\n",
       "      <td>45.584987</td>\n",
       "      <td>2762.500000</td>\n",
       "      <td>3998.043925</td>\n",
       "      <td>0</td>\n",
       "      <td>0</td>\n",
       "      <td>1</td>\n",
       "      <td>-0.093247</td>\n",
       "      <td>-0.041854</td>\n",
       "      <td>-0.113376</td>\n",
       "    </tr>\n",
       "    <tr>\n",
       "      <th>2</th>\n",
       "      <td>116500.0</td>\n",
       "      <td>16000.0</td>\n",
       "      <td>16015</td>\n",
       "      <td>Angoulême</td>\n",
       "      <td>16</td>\n",
       "      <td>Maison</td>\n",
       "      <td>88.0</td>\n",
       "      <td>5.0</td>\n",
       "      <td>58.0</td>\n",
       "      <td>0.176444</td>\n",
       "      <td>45.648704</td>\n",
       "      <td>1323.863636</td>\n",
       "      <td>3375.791865</td>\n",
       "      <td>0</td>\n",
       "      <td>0</td>\n",
       "      <td>1</td>\n",
       "      <td>-0.179090</td>\n",
       "      <td>-0.086773</td>\n",
       "      <td>-0.210911</td>\n",
       "    </tr>\n",
       "    <tr>\n",
       "      <th>3</th>\n",
       "      <td>126000.0</td>\n",
       "      <td>16340.0</td>\n",
       "      <td>16166</td>\n",
       "      <td>L'Isle-d'Espagnac</td>\n",
       "      <td>16</td>\n",
       "      <td>Maison</td>\n",
       "      <td>91.0</td>\n",
       "      <td>4.0</td>\n",
       "      <td>956.0</td>\n",
       "      <td>0.191596</td>\n",
       "      <td>45.661171</td>\n",
       "      <td>1384.615385</td>\n",
       "      <td>1525.448718</td>\n",
       "      <td>0</td>\n",
       "      <td>0</td>\n",
       "      <td>1</td>\n",
       "      <td>-0.175465</td>\n",
       "      <td>-0.220345</td>\n",
       "      <td>-0.202044</td>\n",
       "    </tr>\n",
       "    <tr>\n",
       "      <th>4</th>\n",
       "      <td>250000.0</td>\n",
       "      <td>16100.0</td>\n",
       "      <td>16102</td>\n",
       "      <td>Cognac</td>\n",
       "      <td>16</td>\n",
       "      <td>Maison</td>\n",
       "      <td>151.0</td>\n",
       "      <td>6.0</td>\n",
       "      <td>826.0</td>\n",
       "      <td>-0.309153</td>\n",
       "      <td>45.696703</td>\n",
       "      <td>1655.629139</td>\n",
       "      <td>1558.535327</td>\n",
       "      <td>0</td>\n",
       "      <td>0</td>\n",
       "      <td>1</td>\n",
       "      <td>-0.159293</td>\n",
       "      <td>-0.217957</td>\n",
       "      <td>-0.086309</td>\n",
       "    </tr>\n",
       "    <tr>\n",
       "      <th>...</th>\n",
       "      <td>...</td>\n",
       "      <td>...</td>\n",
       "      <td>...</td>\n",
       "      <td>...</td>\n",
       "      <td>...</td>\n",
       "      <td>...</td>\n",
       "      <td>...</td>\n",
       "      <td>...</td>\n",
       "      <td>...</td>\n",
       "      <td>...</td>\n",
       "      <td>...</td>\n",
       "      <td>...</td>\n",
       "      <td>...</td>\n",
       "      <td>...</td>\n",
       "      <td>...</td>\n",
       "      <td>...</td>\n",
       "      <td>...</td>\n",
       "      <td>...</td>\n",
       "      <td>...</td>\n",
       "    </tr>\n",
       "    <tr>\n",
       "      <th>131472</th>\n",
       "      <td>260000.0</td>\n",
       "      <td>87500.0</td>\n",
       "      <td>87187</td>\n",
       "      <td>Saint-Yrieix-la-Perche</td>\n",
       "      <td>87</td>\n",
       "      <td>Maison</td>\n",
       "      <td>149.0</td>\n",
       "      <td>4.0</td>\n",
       "      <td>13806.0</td>\n",
       "      <td>1.184439</td>\n",
       "      <td>45.488690</td>\n",
       "      <td>1744.966443</td>\n",
       "      <td>1217.895174</td>\n",
       "      <td>0</td>\n",
       "      <td>0</td>\n",
       "      <td>1</td>\n",
       "      <td>-0.153963</td>\n",
       "      <td>-0.242547</td>\n",
       "      <td>-0.076975</td>\n",
       "    </tr>\n",
       "    <tr>\n",
       "      <th>131473</th>\n",
       "      <td>175000.0</td>\n",
       "      <td>87350.0</td>\n",
       "      <td>87114</td>\n",
       "      <td>Panazol</td>\n",
       "      <td>87</td>\n",
       "      <td>Maison</td>\n",
       "      <td>91.0</td>\n",
       "      <td>4.0</td>\n",
       "      <td>225.0</td>\n",
       "      <td>1.290530</td>\n",
       "      <td>45.822054</td>\n",
       "      <td>1923.076923</td>\n",
       "      <td>2771.489232</td>\n",
       "      <td>0</td>\n",
       "      <td>0</td>\n",
       "      <td>1</td>\n",
       "      <td>-0.143335</td>\n",
       "      <td>-0.130396</td>\n",
       "      <td>-0.156310</td>\n",
       "    </tr>\n",
       "    <tr>\n",
       "      <th>131474</th>\n",
       "      <td>149000.0</td>\n",
       "      <td>87200.0</td>\n",
       "      <td>87154</td>\n",
       "      <td>Saint-Junien</td>\n",
       "      <td>87</td>\n",
       "      <td>Maison</td>\n",
       "      <td>85.0</td>\n",
       "      <td>4.0</td>\n",
       "      <td>712.0</td>\n",
       "      <td>0.914763</td>\n",
       "      <td>45.890803</td>\n",
       "      <td>1752.941176</td>\n",
       "      <td>1986.571545</td>\n",
       "      <td>0</td>\n",
       "      <td>0</td>\n",
       "      <td>1</td>\n",
       "      <td>-0.153487</td>\n",
       "      <td>-0.187058</td>\n",
       "      <td>-0.180577</td>\n",
       "    </tr>\n",
       "    <tr>\n",
       "      <th>131475</th>\n",
       "      <td>43000.0</td>\n",
       "      <td>87150.0</td>\n",
       "      <td>87111</td>\n",
       "      <td>Oradour-sur-Vayres</td>\n",
       "      <td>87</td>\n",
       "      <td>Maison</td>\n",
       "      <td>106.0</td>\n",
       "      <td>4.0</td>\n",
       "      <td>44.0</td>\n",
       "      <td>0.897545</td>\n",
       "      <td>45.763998</td>\n",
       "      <td>405.660377</td>\n",
       "      <td>1474.011634</td>\n",
       "      <td>0</td>\n",
       "      <td>0</td>\n",
       "      <td>1</td>\n",
       "      <td>-0.233879</td>\n",
       "      <td>-0.224058</td>\n",
       "      <td>-0.279512</td>\n",
       "    </tr>\n",
       "    <tr>\n",
       "      <th>131476</th>\n",
       "      <td>110000.0</td>\n",
       "      <td>87440.0</td>\n",
       "      <td>87168</td>\n",
       "      <td>Saint-Mathieu</td>\n",
       "      <td>87</td>\n",
       "      <td>Maison</td>\n",
       "      <td>88.0</td>\n",
       "      <td>4.0</td>\n",
       "      <td>1015.0</td>\n",
       "      <td>0.755018</td>\n",
       "      <td>45.710337</td>\n",
       "      <td>1250.000000</td>\n",
       "      <td>1686.322286</td>\n",
       "      <td>0</td>\n",
       "      <td>0</td>\n",
       "      <td>1</td>\n",
       "      <td>-0.183497</td>\n",
       "      <td>-0.208732</td>\n",
       "      <td>-0.216978</td>\n",
       "    </tr>\n",
       "  </tbody>\n",
       "</table>\n",
       "<p>131477 rows × 19 columns</p>\n",
       "</div>"
      ],
      "text/plain": [
       "        valeur_fonciere  code_postal code_commune             nom_commune  \\\n",
       "0              221000.0      16400.0        16418          Vœuil-et-Giget   \n",
       "1              221000.0      16400.0        16418          Vœuil-et-Giget   \n",
       "2              116500.0      16000.0        16015               Angoulême   \n",
       "3              126000.0      16340.0        16166       L'Isle-d'Espagnac   \n",
       "4              250000.0      16100.0        16102                  Cognac   \n",
       "...                 ...          ...          ...                     ...   \n",
       "131472         260000.0      87500.0        87187  Saint-Yrieix-la-Perche   \n",
       "131473         175000.0      87350.0        87114                 Panazol   \n",
       "131474         149000.0      87200.0        87154            Saint-Junien   \n",
       "131475          43000.0      87150.0        87111      Oradour-sur-Vayres   \n",
       "131476         110000.0      87440.0        87168           Saint-Mathieu   \n",
       "\n",
       "       code_departement type_local  surface_reelle_bati  \\\n",
       "0                    16     Maison                 80.0   \n",
       "1                    16     Maison                 80.0   \n",
       "2                    16     Maison                 88.0   \n",
       "3                    16     Maison                 91.0   \n",
       "4                    16     Maison                151.0   \n",
       "...                 ...        ...                  ...   \n",
       "131472               87     Maison                149.0   \n",
       "131473               87     Maison                 91.0   \n",
       "131474               87     Maison                 85.0   \n",
       "131475               87     Maison                106.0   \n",
       "131476               87     Maison                 88.0   \n",
       "\n",
       "        nombre_pieces_principales  surface_terrain  longitude   latitude  \\\n",
       "0                             4.0            880.0   0.156614  45.584987   \n",
       "1                             4.0            500.0   0.156614  45.584987   \n",
       "2                             5.0             58.0   0.176444  45.648704   \n",
       "3                             4.0            956.0   0.191596  45.661171   \n",
       "4                             6.0            826.0  -0.309153  45.696703   \n",
       "...                           ...              ...        ...        ...   \n",
       "131472                        4.0          13806.0   1.184439  45.488690   \n",
       "131473                        4.0            225.0   1.290530  45.822054   \n",
       "131474                        4.0            712.0   0.914763  45.890803   \n",
       "131475                        4.0             44.0   0.897545  45.763998   \n",
       "131476                        4.0           1015.0   0.755018  45.710337   \n",
       "\n",
       "            prix_m2  prix_m2_voisinage  type_local_Appartement  \\\n",
       "0       2762.500000        3998.043925                       0   \n",
       "1       2762.500000        3998.043925                       0   \n",
       "2       1323.863636        3375.791865                       0   \n",
       "3       1384.615385        1525.448718                       0   \n",
       "4       1655.629139        1558.535327                       0   \n",
       "...             ...                ...                     ...   \n",
       "131472  1744.966443        1217.895174                       0   \n",
       "131473  1923.076923        2771.489232                       0   \n",
       "131474  1752.941176        1986.571545                       0   \n",
       "131475   405.660377        1474.011634                       0   \n",
       "131476  1250.000000        1686.322286                       0   \n",
       "\n",
       "        type_local_Local industriel. commercial ou assimilé  \\\n",
       "0                                                       0     \n",
       "1                                                       0     \n",
       "2                                                       0     \n",
       "3                                                       0     \n",
       "4                                                       0     \n",
       "...                                                   ...     \n",
       "131472                                                  0     \n",
       "131473                                                  0     \n",
       "131474                                                  0     \n",
       "131475                                                  0     \n",
       "131476                                                  0     \n",
       "\n",
       "        type_local_Maison  prix_m2_scaled  prix_m2_voisinage_scaled  \\\n",
       "0                       1       -0.093247                 -0.041854   \n",
       "1                       1       -0.093247                 -0.041854   \n",
       "2                       1       -0.179090                 -0.086773   \n",
       "3                       1       -0.175465                 -0.220345   \n",
       "4                       1       -0.159293                 -0.217957   \n",
       "...                   ...             ...                       ...   \n",
       "131472                  1       -0.153963                 -0.242547   \n",
       "131473                  1       -0.143335                 -0.130396   \n",
       "131474                  1       -0.153487                 -0.187058   \n",
       "131475                  1       -0.233879                 -0.224058   \n",
       "131476                  1       -0.183497                 -0.208732   \n",
       "\n",
       "        valeur_fonciere_scaled  \n",
       "0                    -0.113376  \n",
       "1                    -0.113376  \n",
       "2                    -0.210911  \n",
       "3                    -0.202044  \n",
       "4                    -0.086309  \n",
       "...                        ...  \n",
       "131472               -0.076975  \n",
       "131473               -0.156310  \n",
       "131474               -0.180577  \n",
       "131475               -0.279512  \n",
       "131476               -0.216978  \n",
       "\n",
       "[131477 rows x 19 columns]"
      ]
     },
     "execution_count": 14,
     "metadata": {},
     "output_type": "execute_result"
    }
   ],
   "source": [
    "df"
   ]
  },
  {
   "cell_type": "code",
   "execution_count": 15,
   "metadata": {},
   "outputs": [
    {
     "data": {
      "text/plain": [
       "Index(['valeur_fonciere', 'code_postal', 'code_commune', 'nom_commune',\n",
       "       'code_departement', 'type_local', 'surface_reelle_bati',\n",
       "       'nombre_pieces_principales', 'surface_terrain', 'longitude', 'latitude',\n",
       "       'prix_m2', 'prix_m2_voisinage', 'type_local_Appartement',\n",
       "       'type_local_Local industriel. commercial ou assimilé',\n",
       "       'type_local_Maison', 'prix_m2_scaled', 'prix_m2_voisinage_scaled',\n",
       "       'valeur_fonciere_scaled'],\n",
       "      dtype='object')"
      ]
     },
     "execution_count": 15,
     "metadata": {},
     "output_type": "execute_result"
    }
   ],
   "source": [
    "df.columns"
   ]
  },
  {
   "cell_type": "markdown",
   "metadata": {},
   "source": [
    "## Modelisation"
   ]
  },
  {
   "cell_type": "markdown",
   "metadata": {},
   "source": [
    "On essaye de prédire le prix d'une habitation à l'aide d'un régresseur de type Random Forest.\n",
    "\n",
    "On définie nos X et y, et on sépare nos données en *train* et *test*."
   ]
  },
  {
   "cell_type": "code",
   "execution_count": 16,
   "metadata": {},
   "outputs": [],
   "source": [
    "X = df[['surface_reelle_bati', 'surface_terrain', 'longitude', 'latitude',\n",
    "       'type_local_Appartement', 'type_local_Local industriel. commercial ou assimilé', 'type_local_Maison', \n",
    "       'prix_m2_scaled', 'prix_m2_voisinage_scaled']].values\n",
    "y = df[['valeur_fonciere_scaled']].values"
   ]
  },
  {
   "cell_type": "code",
   "execution_count": 17,
   "metadata": {},
   "outputs": [],
   "source": [
    "from sklearn.model_selection import train_test_split\n",
    "\n",
    "X_train, X_test, y_train, y_test = train_test_split(X, y, test_size=0.20)"
   ]
  },
  {
   "cell_type": "code",
   "execution_count": 18,
   "metadata": {},
   "outputs": [
    {
     "name": "stderr",
     "output_type": "stream",
     "text": [
      "/tmp/ipykernel_574/3301792599.py:4: DataConversionWarning: A column-vector y was passed when a 1d array was expected. Please change the shape of y to (n_samples,), for example using ravel().\n",
      "  regr.fit(X_train, y_train)\n"
     ]
    },
    {
     "data": {
      "text/html": [
       "<style>#sk-container-id-1 {color: black;background-color: white;}#sk-container-id-1 pre{padding: 0;}#sk-container-id-1 div.sk-toggleable {background-color: white;}#sk-container-id-1 label.sk-toggleable__label {cursor: pointer;display: block;width: 100%;margin-bottom: 0;padding: 0.3em;box-sizing: border-box;text-align: center;}#sk-container-id-1 label.sk-toggleable__label-arrow:before {content: \"▸\";float: left;margin-right: 0.25em;color: #696969;}#sk-container-id-1 label.sk-toggleable__label-arrow:hover:before {color: black;}#sk-container-id-1 div.sk-estimator:hover label.sk-toggleable__label-arrow:before {color: black;}#sk-container-id-1 div.sk-toggleable__content {max-height: 0;max-width: 0;overflow: hidden;text-align: left;background-color: #f0f8ff;}#sk-container-id-1 div.sk-toggleable__content pre {margin: 0.2em;color: black;border-radius: 0.25em;background-color: #f0f8ff;}#sk-container-id-1 input.sk-toggleable__control:checked~div.sk-toggleable__content {max-height: 200px;max-width: 100%;overflow: auto;}#sk-container-id-1 input.sk-toggleable__control:checked~label.sk-toggleable__label-arrow:before {content: \"▾\";}#sk-container-id-1 div.sk-estimator input.sk-toggleable__control:checked~label.sk-toggleable__label {background-color: #d4ebff;}#sk-container-id-1 div.sk-label input.sk-toggleable__control:checked~label.sk-toggleable__label {background-color: #d4ebff;}#sk-container-id-1 input.sk-hidden--visually {border: 0;clip: rect(1px 1px 1px 1px);clip: rect(1px, 1px, 1px, 1px);height: 1px;margin: -1px;overflow: hidden;padding: 0;position: absolute;width: 1px;}#sk-container-id-1 div.sk-estimator {font-family: monospace;background-color: #f0f8ff;border: 1px dotted black;border-radius: 0.25em;box-sizing: border-box;margin-bottom: 0.5em;}#sk-container-id-1 div.sk-estimator:hover {background-color: #d4ebff;}#sk-container-id-1 div.sk-parallel-item::after {content: \"\";width: 100%;border-bottom: 1px solid gray;flex-grow: 1;}#sk-container-id-1 div.sk-label:hover label.sk-toggleable__label {background-color: #d4ebff;}#sk-container-id-1 div.sk-serial::before {content: \"\";position: absolute;border-left: 1px solid gray;box-sizing: border-box;top: 0;bottom: 0;left: 50%;z-index: 0;}#sk-container-id-1 div.sk-serial {display: flex;flex-direction: column;align-items: center;background-color: white;padding-right: 0.2em;padding-left: 0.2em;position: relative;}#sk-container-id-1 div.sk-item {position: relative;z-index: 1;}#sk-container-id-1 div.sk-parallel {display: flex;align-items: stretch;justify-content: center;background-color: white;position: relative;}#sk-container-id-1 div.sk-item::before, #sk-container-id-1 div.sk-parallel-item::before {content: \"\";position: absolute;border-left: 1px solid gray;box-sizing: border-box;top: 0;bottom: 0;left: 50%;z-index: -1;}#sk-container-id-1 div.sk-parallel-item {display: flex;flex-direction: column;z-index: 1;position: relative;background-color: white;}#sk-container-id-1 div.sk-parallel-item:first-child::after {align-self: flex-end;width: 50%;}#sk-container-id-1 div.sk-parallel-item:last-child::after {align-self: flex-start;width: 50%;}#sk-container-id-1 div.sk-parallel-item:only-child::after {width: 0;}#sk-container-id-1 div.sk-dashed-wrapped {border: 1px dashed gray;margin: 0 0.4em 0.5em 0.4em;box-sizing: border-box;padding-bottom: 0.4em;background-color: white;}#sk-container-id-1 div.sk-label label {font-family: monospace;font-weight: bold;display: inline-block;line-height: 1.2em;}#sk-container-id-1 div.sk-label-container {text-align: center;}#sk-container-id-1 div.sk-container {/* jupyter's `normalize.less` sets `[hidden] { display: none; }` but bootstrap.min.css set `[hidden] { display: none !important; }` so we also need the `!important` here to be able to override the default hidden behavior on the sphinx rendered scikit-learn.org. See: https://github.com/scikit-learn/scikit-learn/issues/21755 */display: inline-block !important;position: relative;}#sk-container-id-1 div.sk-text-repr-fallback {display: none;}</style><div id=\"sk-container-id-1\" class=\"sk-top-container\"><div class=\"sk-text-repr-fallback\"><pre>RandomForestRegressor(min_samples_split=5, n_estimators=30)</pre><b>In a Jupyter environment, please rerun this cell to show the HTML representation or trust the notebook. <br />On GitHub, the HTML representation is unable to render, please try loading this page with nbviewer.org.</b></div><div class=\"sk-container\" hidden><div class=\"sk-item\"><div class=\"sk-estimator sk-toggleable\"><input class=\"sk-toggleable__control sk-hidden--visually\" id=\"sk-estimator-id-1\" type=\"checkbox\" checked><label for=\"sk-estimator-id-1\" class=\"sk-toggleable__label sk-toggleable__label-arrow\">RandomForestRegressor</label><div class=\"sk-toggleable__content\"><pre>RandomForestRegressor(min_samples_split=5, n_estimators=30)</pre></div></div></div></div></div>"
      ],
      "text/plain": [
       "RandomForestRegressor(min_samples_split=5, n_estimators=30)"
      ]
     },
     "execution_count": 18,
     "metadata": {},
     "output_type": "execute_result"
    }
   ],
   "source": [
    "from sklearn.ensemble import RandomForestRegressor\n",
    "\n",
    "regr = RandomForestRegressor(n_estimators=30, min_samples_split=5)\n",
    "regr.fit(X_train, y_train)"
   ]
  },
  {
   "cell_type": "markdown",
   "metadata": {},
   "source": [
    "On calcule le R2 de notre modèle."
   ]
  },
  {
   "cell_type": "code",
   "execution_count": 19,
   "metadata": {},
   "outputs": [
    {
     "data": {
      "text/plain": [
       "0.7805014819974133"
      ]
     },
     "execution_count": 19,
     "metadata": {},
     "output_type": "execute_result"
    }
   ],
   "source": [
    "regr.score(X_test, y_test)"
   ]
  },
  {
   "cell_type": "markdown",
   "metadata": {},
   "source": [
    " ## Une carte\n"
   ]
  },
  {
   "cell_type": "markdown",
   "metadata": {},
   "source": [
    "On va construire la carte du prix moyen au m² par département."
   ]
  },
  {
   "cell_type": "code",
   "execution_count": 21,
   "metadata": {},
   "outputs": [
    {
     "name": "stdout",
     "output_type": "stream",
     "text": [
      "Collecting botocore==1.23.26\n",
      "  Downloading botocore-1.23.26-py3-none-any.whl (8.5 MB)\n",
      "\u001b[2K     \u001b[90m━━━━━━━━━━━━━━━━━━━━━━━━━━━━━━━━━━━━━━━━\u001b[0m \u001b[32m8.5/8.5 MB\u001b[0m \u001b[31m15.1 MB/s\u001b[0m eta \u001b[36m0:00:00\u001b[0m00:01\u001b[0m00:01\u001b[0m\n",
      "\u001b[?25hCollecting jmespath<1.0.0,>=0.7.1\n",
      "  Downloading jmespath-0.10.0-py2.py3-none-any.whl (24 kB)\n",
      "Requirement already satisfied: urllib3<1.27,>=1.25.4 in /opt/mamba/lib/python3.10/site-packages (from botocore==1.23.26) (1.26.11)\n",
      "Requirement already satisfied: python-dateutil<3.0.0,>=2.1 in /opt/mamba/lib/python3.10/site-packages (from botocore==1.23.26) (2.8.2)\n",
      "Requirement already satisfied: six>=1.5 in /opt/mamba/lib/python3.10/site-packages (from python-dateutil<3.0.0,>=2.1->botocore==1.23.26) (1.16.0)\n",
      "Installing collected packages: jmespath, botocore\n",
      "  Attempting uninstall: jmespath\n",
      "    Found existing installation: jmespath 1.0.1\n",
      "    Uninstalling jmespath-1.0.1:\n",
      "      Successfully uninstalled jmespath-1.0.1\n",
      "  Attempting uninstall: botocore\n",
      "    Found existing installation: botocore 1.29.13\n",
      "    Uninstalling botocore-1.29.13:\n",
      "      Successfully uninstalled botocore-1.29.13\n",
      "\u001b[31mERROR: pip's dependency resolver does not currently take into account all the packages that are installed. This behaviour is the source of the following dependency conflicts.\n",
      "boto3 1.26.13 requires botocore<1.30.0,>=1.29.13, but you have botocore 1.23.26 which is incompatible.\u001b[0m\u001b[31m\n",
      "\u001b[0mSuccessfully installed botocore-1.23.26 jmespath-0.10.0\n",
      "Collecting urllib3==1.22.0\n",
      "  Downloading urllib3-1.22-py2.py3-none-any.whl (132 kB)\n",
      "\u001b[2K     \u001b[90m━━━━━━━━━━━━━━━━━━━━━━━━━━━━━━━━━━━━━━━\u001b[0m \u001b[32m132.3/132.3 kB\u001b[0m \u001b[31m5.3 MB/s\u001b[0m eta \u001b[36m0:00:00\u001b[0m\n",
      "\u001b[?25hInstalling collected packages: urllib3\n",
      "  Attempting uninstall: urllib3\n",
      "    Found existing installation: urllib3 1.26.11\n",
      "    Uninstalling urllib3-1.26.11:\n",
      "      Successfully uninstalled urllib3-1.26.11\n",
      "\u001b[31mERROR: pip's dependency resolver does not currently take into account all the packages that are installed. This behaviour is the source of the following dependency conflicts.\n",
      "botocore 1.23.26 requires urllib3<1.27,>=1.25.4, but you have urllib3 1.22 which is incompatible.\n",
      "boto3 1.26.13 requires botocore<1.30.0,>=1.29.13, but you have botocore 1.23.26 which is incompatible.\u001b[0m\u001b[31m\n",
      "\u001b[0mSuccessfully installed urllib3-1.22\n",
      "Collecting py7zr\n",
      "  Downloading py7zr-0.20.2-py3-none-any.whl (65 kB)\n",
      "\u001b[2K     \u001b[90m━━━━━━━━━━━━━━━━━━━━━━━━━━━━━━━━━━━━━━━━\u001b[0m \u001b[32m65.8/65.8 kB\u001b[0m \u001b[31m4.8 MB/s\u001b[0m eta \u001b[36m0:00:00\u001b[0m\n",
      "\u001b[?25hCollecting pybcj>=0.6.0\n",
      "  Downloading pybcj-1.0.1-cp310-cp310-manylinux_2_17_x86_64.manylinux2014_x86_64.whl (49 kB)\n",
      "\u001b[2K     \u001b[90m━━━━━━━━━━━━━━━━━━━━━━━━━━━━━━━━━━━━━━━━\u001b[0m \u001b[32m49.8/49.8 kB\u001b[0m \u001b[31m8.0 MB/s\u001b[0m eta \u001b[36m0:00:00\u001b[0m\n",
      "\u001b[?25hCollecting pyppmd<1.1.0,>=0.18.1\n",
      "  Downloading pyppmd-1.0.0-cp310-cp310-manylinux_2_17_x86_64.manylinux2014_x86_64.whl (138 kB)\n",
      "\u001b[2K     \u001b[90m━━━━━━━━━━━━━━━━━━━━━━━━━━━━━━━━━━━━━━\u001b[0m \u001b[32m138.8/138.8 kB\u001b[0m \u001b[31m16.1 MB/s\u001b[0m eta \u001b[36m0:00:00\u001b[0m\n",
      "\u001b[?25hCollecting brotli>=1.0.9\n",
      "  Downloading Brotli-1.0.9-cp310-cp310-manylinux_2_5_x86_64.manylinux1_x86_64.manylinux_2_12_x86_64.manylinux2010_x86_64.whl (2.7 MB)\n",
      "\u001b[2K     \u001b[90m━━━━━━━━━━━━━━━━━━━━━━━━━━━━━━━━━━━━━━━━\u001b[0m \u001b[32m2.7/2.7 MB\u001b[0m \u001b[31m12.9 MB/s\u001b[0m eta \u001b[36m0:00:00\u001b[0ma \u001b[36m0:00:01\u001b[0m\n",
      "\u001b[?25hCollecting inflate64>=0.3.1\n",
      "  Downloading inflate64-0.3.1-cp310-cp310-manylinux_2_17_x86_64.manylinux2014_x86_64.whl (93 kB)\n",
      "\u001b[2K     \u001b[90m━━━━━━━━━━━━━━━━━━━━━━━━━━━━━━━━━━━━━━━━\u001b[0m \u001b[32m93.1/93.1 kB\u001b[0m \u001b[31m37.4 MB/s\u001b[0m eta \u001b[36m0:00:00\u001b[0m\n",
      "\u001b[?25hCollecting pyzstd>=0.14.4\n",
      "  Downloading pyzstd-0.15.3-cp310-cp310-manylinux_2_17_x86_64.manylinux2014_x86_64.whl (379 kB)\n",
      "\u001b[2K     \u001b[90m━━━━━━━━━━━━━━━━━━━━━━━━━━━━━━━━━━━━━━\u001b[0m \u001b[32m379.0/379.0 kB\u001b[0m \u001b[31m15.0 MB/s\u001b[0m eta \u001b[36m0:00:00\u001b[0m\n",
      "\u001b[?25hCollecting texttable\n",
      "  Downloading texttable-1.6.7-py2.py3-none-any.whl (10 kB)\n",
      "Collecting multivolumefile>=0.2.3\n",
      "  Downloading multivolumefile-0.2.3-py3-none-any.whl (17 kB)\n",
      "Collecting pycryptodomex>=3.6.6\n",
      "  Downloading pycryptodomex-3.16.0-cp35-abi3-manylinux_2_5_x86_64.manylinux1_x86_64.manylinux_2_12_x86_64.manylinux2010_x86_64.whl (2.3 MB)\n",
      "\u001b[2K     \u001b[90m━━━━━━━━━━━━━━━━━━━━━━━━━━━━━━━━━━━━━━━━\u001b[0m \u001b[32m2.3/2.3 MB\u001b[0m \u001b[31m10.3 MB/s\u001b[0m eta \u001b[36m0:00:00\u001b[0m00:01\u001b[0m00:01\u001b[0m\n",
      "\u001b[?25hRequirement already satisfied: psutil in /opt/mamba/lib/python3.10/site-packages (from py7zr) (5.9.4)\n",
      "Installing collected packages: texttable, brotli, pyzstd, pyppmd, pycryptodomex, pybcj, multivolumefile, inflate64, py7zr\n",
      "Successfully installed brotli-1.0.9 inflate64-0.3.1 multivolumefile-0.2.3 py7zr-0.20.2 pybcj-1.0.1 pycryptodomex-3.16.0 pyppmd-1.0.0 pyzstd-0.15.3 texttable-1.6.7\n",
      "Requirement already satisfied: s3fs in /opt/mamba/lib/python3.10/site-packages (0.4.2)\n",
      "Requirement already satisfied: botocore>=1.12.91 in /opt/mamba/lib/python3.10/site-packages (from s3fs) (1.23.26)\n",
      "Requirement already satisfied: fsspec>=0.6.0 in /opt/mamba/lib/python3.10/site-packages (from s3fs) (2022.11.0)\n",
      "Collecting urllib3<1.27,>=1.25.4\n",
      "  Downloading urllib3-1.26.13-py2.py3-none-any.whl (140 kB)\n",
      "\u001b[2K     \u001b[90m━━━━━━━━━━━━━━━━━━━━━━━━━━━━━━━━━━━━━━━\u001b[0m \u001b[32m140.6/140.6 kB\u001b[0m \u001b[31m5.2 MB/s\u001b[0m eta \u001b[36m0:00:00\u001b[0m\n",
      "\u001b[?25hRequirement already satisfied: python-dateutil<3.0.0,>=2.1 in /opt/mamba/lib/python3.10/site-packages (from botocore>=1.12.91->s3fs) (2.8.2)\n",
      "Requirement already satisfied: jmespath<1.0.0,>=0.7.1 in /opt/mamba/lib/python3.10/site-packages (from botocore>=1.12.91->s3fs) (0.10.0)\n",
      "Requirement already satisfied: six>=1.5 in /opt/mamba/lib/python3.10/site-packages (from python-dateutil<3.0.0,>=2.1->botocore>=1.12.91->s3fs) (1.16.0)\n",
      "Installing collected packages: urllib3\n",
      "  Attempting uninstall: urllib3\n",
      "    Found existing installation: urllib3 1.22\n",
      "    Uninstalling urllib3-1.22:\n",
      "      Successfully uninstalled urllib3-1.22\n",
      "\u001b[31mERROR: pip's dependency resolver does not currently take into account all the packages that are installed. This behaviour is the source of the following dependency conflicts.\n",
      "boto3 1.26.13 requires botocore<1.30.0,>=1.29.13, but you have botocore 1.23.26 which is incompatible.\u001b[0m\u001b[31m\n",
      "\u001b[0mSuccessfully installed urllib3-1.26.13\n",
      "Cloning into 'cartogether'...\n",
      "remote: Enumerating objects: 314, done.\u001b[K\n",
      "remote: Counting objects: 100% (210/210), done.\u001b[K\n",
      "remote: Compressing objects: 100% (149/149), done.\u001b[K\n",
      "remote: Total 314 (delta 95), reused 136 (delta 55), pack-reused 104\u001b[K\n",
      "Receiving objects: 100% (314/314), 3.96 MiB | 8.32 MiB/s, done.\n",
      "Resolving deltas: 100% (129/129), done.\n",
      "/home/onyxia/work/cartogether\n",
      "Requirement already satisfied: requests in /opt/mamba/lib/python3.10/site-packages (from -r requirements.txt (line 1)) (2.28.1)\n",
      "Requirement already satisfied: py7zr in /opt/mamba/lib/python3.10/site-packages (from -r requirements.txt (line 2)) (0.20.2)\n",
      "Requirement already satisfied: geopandas in /opt/mamba/lib/python3.10/site-packages (from -r requirements.txt (line 3)) (0.12.1)\n",
      "Collecting openpyxl\n",
      "  Downloading openpyxl-3.0.10-py2.py3-none-any.whl (242 kB)\n",
      "\u001b[2K     \u001b[90m━━━━━━━━━━━━━━━━━━━━━━━━━━━━━━━━━━━━━━━\u001b[0m \u001b[32m242.1/242.1 kB\u001b[0m \u001b[31m7.1 MB/s\u001b[0m eta \u001b[36m0:00:00\u001b[0m\n",
      "\u001b[?25hRequirement already satisfied: tqdm in /opt/mamba/lib/python3.10/site-packages (from -r requirements.txt (line 5)) (4.64.1)\n",
      "Requirement already satisfied: s3fs in /opt/mamba/lib/python3.10/site-packages (from -r requirements.txt (line 6)) (0.4.2)\n",
      "Requirement already satisfied: PyYAML in /opt/mamba/lib/python3.10/site-packages (from -r requirements.txt (line 7)) (6.0)\n",
      "Collecting xlrd\n",
      "  Downloading xlrd-2.0.1-py2.py3-none-any.whl (96 kB)\n",
      "\u001b[2K     \u001b[90m━━━━━━━━━━━━━━━━━━━━━━━━━━━━━━━━━━━━━━━━\u001b[0m \u001b[32m96.5/96.5 kB\u001b[0m \u001b[31m5.2 MB/s\u001b[0m eta \u001b[36m0:00:00\u001b[0m\n",
      "\u001b[?25hRequirement already satisfied: idna<4,>=2.5 in /opt/mamba/lib/python3.10/site-packages (from requests->-r requirements.txt (line 1)) (3.4)\n",
      "Requirement already satisfied: certifi>=2017.4.17 in /opt/mamba/lib/python3.10/site-packages (from requests->-r requirements.txt (line 1)) (2022.9.24)\n",
      "Requirement already satisfied: charset-normalizer<3,>=2 in /opt/mamba/lib/python3.10/site-packages (from requests->-r requirements.txt (line 1)) (2.1.1)\n",
      "Requirement already satisfied: urllib3<1.27,>=1.21.1 in /opt/mamba/lib/python3.10/site-packages (from requests->-r requirements.txt (line 1)) (1.26.13)\n",
      "Requirement already satisfied: psutil in /opt/mamba/lib/python3.10/site-packages (from py7zr->-r requirements.txt (line 2)) (5.9.4)\n",
      "Requirement already satisfied: multivolumefile>=0.2.3 in /opt/mamba/lib/python3.10/site-packages (from py7zr->-r requirements.txt (line 2)) (0.2.3)\n",
      "Requirement already satisfied: pyzstd>=0.14.4 in /opt/mamba/lib/python3.10/site-packages (from py7zr->-r requirements.txt (line 2)) (0.15.3)\n",
      "Requirement already satisfied: pybcj>=0.6.0 in /opt/mamba/lib/python3.10/site-packages (from py7zr->-r requirements.txt (line 2)) (1.0.1)\n",
      "Requirement already satisfied: pyppmd<1.1.0,>=0.18.1 in /opt/mamba/lib/python3.10/site-packages (from py7zr->-r requirements.txt (line 2)) (1.0.0)\n",
      "Requirement already satisfied: pycryptodomex>=3.6.6 in /opt/mamba/lib/python3.10/site-packages (from py7zr->-r requirements.txt (line 2)) (3.16.0)\n",
      "Requirement already satisfied: brotli>=1.0.9 in /opt/mamba/lib/python3.10/site-packages (from py7zr->-r requirements.txt (line 2)) (1.0.9)\n",
      "Requirement already satisfied: inflate64>=0.3.1 in /opt/mamba/lib/python3.10/site-packages (from py7zr->-r requirements.txt (line 2)) (0.3.1)\n",
      "Requirement already satisfied: texttable in /opt/mamba/lib/python3.10/site-packages (from py7zr->-r requirements.txt (line 2)) (1.6.7)\n",
      "Requirement already satisfied: pyproj>=2.6.1.post1 in /opt/mamba/lib/python3.10/site-packages (from geopandas->-r requirements.txt (line 3)) (3.4.0)\n",
      "Requirement already satisfied: shapely>=1.7 in /opt/mamba/lib/python3.10/site-packages (from geopandas->-r requirements.txt (line 3)) (1.8.5.post1)\n",
      "Requirement already satisfied: pandas>=1.0.0 in /opt/mamba/lib/python3.10/site-packages (from geopandas->-r requirements.txt (line 3)) (1.5.1)\n",
      "Requirement already satisfied: fiona>=1.8 in /opt/mamba/lib/python3.10/site-packages (from geopandas->-r requirements.txt (line 3)) (1.8.22)\n",
      "Requirement already satisfied: packaging in /opt/mamba/lib/python3.10/site-packages (from geopandas->-r requirements.txt (line 3)) (21.3)\n",
      "Collecting et-xmlfile\n",
      "  Downloading et_xmlfile-1.1.0-py3-none-any.whl (4.7 kB)\n",
      "Requirement already satisfied: botocore>=1.12.91 in /opt/mamba/lib/python3.10/site-packages (from s3fs->-r requirements.txt (line 6)) (1.23.26)\n",
      "Requirement already satisfied: fsspec>=0.6.0 in /opt/mamba/lib/python3.10/site-packages (from s3fs->-r requirements.txt (line 6)) (2022.11.0)\n",
      "Requirement already satisfied: jmespath<1.0.0,>=0.7.1 in /opt/mamba/lib/python3.10/site-packages (from botocore>=1.12.91->s3fs->-r requirements.txt (line 6)) (0.10.0)\n",
      "Requirement already satisfied: python-dateutil<3.0.0,>=2.1 in /opt/mamba/lib/python3.10/site-packages (from botocore>=1.12.91->s3fs->-r requirements.txt (line 6)) (2.8.2)\n",
      "Requirement already satisfied: click-plugins>=1.0 in /opt/mamba/lib/python3.10/site-packages (from fiona>=1.8->geopandas->-r requirements.txt (line 3)) (1.1.1)\n",
      "Requirement already satisfied: munch in /opt/mamba/lib/python3.10/site-packages (from fiona>=1.8->geopandas->-r requirements.txt (line 3)) (2.5.0)\n",
      "Requirement already satisfied: setuptools in /opt/mamba/lib/python3.10/site-packages (from fiona>=1.8->geopandas->-r requirements.txt (line 3)) (65.5.1)\n",
      "Requirement already satisfied: six>=1.7 in /opt/mamba/lib/python3.10/site-packages (from fiona>=1.8->geopandas->-r requirements.txt (line 3)) (1.16.0)\n",
      "Requirement already satisfied: cligj>=0.5 in /opt/mamba/lib/python3.10/site-packages (from fiona>=1.8->geopandas->-r requirements.txt (line 3)) (0.7.2)\n",
      "Requirement already satisfied: attrs>=17 in /opt/mamba/lib/python3.10/site-packages (from fiona>=1.8->geopandas->-r requirements.txt (line 3)) (22.1.0)\n",
      "Requirement already satisfied: click>=4.0 in /opt/mamba/lib/python3.10/site-packages (from fiona>=1.8->geopandas->-r requirements.txt (line 3)) (8.1.3)\n",
      "Requirement already satisfied: pytz>=2020.1 in /opt/mamba/lib/python3.10/site-packages (from pandas>=1.0.0->geopandas->-r requirements.txt (line 3)) (2022.6)\n",
      "Requirement already satisfied: numpy>=1.21.0 in /opt/mamba/lib/python3.10/site-packages (from pandas>=1.0.0->geopandas->-r requirements.txt (line 3)) (1.23.5)\n",
      "Requirement already satisfied: pyparsing!=3.0.5,>=2.0.2 in /opt/mamba/lib/python3.10/site-packages (from packaging->geopandas->-r requirements.txt (line 3)) (3.0.9)\n",
      "Installing collected packages: xlrd, et-xmlfile, openpyxl\n",
      "Successfully installed et-xmlfile-1.1.0 openpyxl-3.0.10 xlrd-2.0.1\n",
      "Processing /home/onyxia/work/cartogether\n",
      "  Installing build dependencies ... \u001b[?25ldone\n",
      "\u001b[?25h  Getting requirements to build wheel ... \u001b[?25ldone\n",
      "\u001b[?25h  Preparing metadata (pyproject.toml) ... \u001b[?25ldone\n",
      "\u001b[?25hBuilding wheels for collected packages: cartiflette\n",
      "  Building wheel for cartiflette (pyproject.toml) ... \u001b[?25ldone\n",
      "\u001b[?25h  Created wheel for cartiflette: filename=cartiflette-0.0.1-py3-none-any.whl size=19629 sha256=fb7ddd923c773d35003a7c78b8c8432a35f65d080992926025708f73075d6153\n",
      "  Stored in directory: /tmp/pip-ephem-wheel-cache-94gkvhrm/wheels/bc/7e/d6/b7620029f5fdfe473b9ee843359ce2f4708656eb845442b721\n",
      "Successfully built cartiflette\n",
      "Installing collected packages: cartiflette\n",
      "Successfully installed cartiflette-0.0.1\n"
     ]
    }
   ],
   "source": [
    "!pip install --upgrade botocore==1.23.26  #Sur colab, sinon bug\n",
    "!pip install --upgrade urllib3==1.22.0 #Sur colab, sinon bug\n",
    "!pip install py7zr #Sur colab, sinon bug\n",
    "!pip install s3fs #Sur colab, sinon bug\n",
    "!git clone https://github.com/InseeFrLab/cartogether.git\n",
    "%cd ./cartogether\n",
    "!pip install -r requirements.txt\n",
    "!pip install ."
   ]
  },
  {
   "cell_type": "code",
   "execution_count": 22,
   "metadata": {},
   "outputs": [],
   "source": [
    "import geopandas as gpd \n",
    "import cartiflette.s3"
   ]
  },
  {
   "cell_type": "code",
   "execution_count": 23,
   "metadata": {},
   "outputs": [
    {
     "name": "stderr",
     "output_type": "stream",
     "text": [
      "ERROR 1: PROJ: proj_create_from_database: Open of /opt/mamba/share/proj failed\n"
     ]
    },
    {
     "ename": "DriverError",
     "evalue": "DEPARTEMENT.shp: No such file or directory",
     "output_type": "error",
     "traceback": [
      "\u001b[0;31m---------------------------------------------------------------------------\u001b[0m",
      "\u001b[0;31mCPLE_OpenFailedError\u001b[0m                      Traceback (most recent call last)",
      "File \u001b[0;32mfiona/_shim.pyx:83\u001b[0m, in \u001b[0;36mfiona._shim.gdal_open_vector\u001b[0;34m()\u001b[0m\n",
      "File \u001b[0;32mfiona/_err.pyx:291\u001b[0m, in \u001b[0;36mfiona._err.exc_wrap_pointer\u001b[0;34m()\u001b[0m\n",
      "\u001b[0;31mCPLE_OpenFailedError\u001b[0m: DEPARTEMENT.shp: No such file or directory",
      "\nDuring handling of the above exception, another exception occurred:\n",
      "\u001b[0;31mDriverError\u001b[0m                               Traceback (most recent call last)",
      "Cell \u001b[0;32mIn [23], line 1\u001b[0m\n\u001b[0;32m----> 1\u001b[0m shp_departements \u001b[38;5;241m=\u001b[39m \u001b[43mgpd\u001b[49m\u001b[38;5;241;43m.\u001b[39;49m\u001b[43mread_file\u001b[49m\u001b[43m(\u001b[49m\u001b[38;5;124;43m\"\u001b[39;49m\u001b[38;5;124;43mDEPARTEMENT.shp\u001b[39;49m\u001b[38;5;124;43m\"\u001b[39;49m\u001b[43m)\u001b[49m\n",
      "File \u001b[0;32m/opt/mamba/lib/python3.10/site-packages/geopandas/io/file.py:259\u001b[0m, in \u001b[0;36m_read_file\u001b[0;34m(filename, bbox, mask, rows, engine, **kwargs)\u001b[0m\n\u001b[1;32m    256\u001b[0m     path_or_bytes \u001b[38;5;241m=\u001b[39m filename\n\u001b[1;32m    258\u001b[0m \u001b[38;5;28;01mif\u001b[39;00m engine \u001b[38;5;241m==\u001b[39m \u001b[38;5;124m\"\u001b[39m\u001b[38;5;124mfiona\u001b[39m\u001b[38;5;124m\"\u001b[39m:\n\u001b[0;32m--> 259\u001b[0m     \u001b[38;5;28;01mreturn\u001b[39;00m \u001b[43m_read_file_fiona\u001b[49m\u001b[43m(\u001b[49m\n\u001b[1;32m    260\u001b[0m \u001b[43m        \u001b[49m\u001b[43mpath_or_bytes\u001b[49m\u001b[43m,\u001b[49m\u001b[43m \u001b[49m\u001b[43mfrom_bytes\u001b[49m\u001b[43m,\u001b[49m\u001b[43m \u001b[49m\u001b[43mbbox\u001b[49m\u001b[38;5;241;43m=\u001b[39;49m\u001b[43mbbox\u001b[49m\u001b[43m,\u001b[49m\u001b[43m \u001b[49m\u001b[43mmask\u001b[49m\u001b[38;5;241;43m=\u001b[39;49m\u001b[43mmask\u001b[49m\u001b[43m,\u001b[49m\u001b[43m \u001b[49m\u001b[43mrows\u001b[49m\u001b[38;5;241;43m=\u001b[39;49m\u001b[43mrows\u001b[49m\u001b[43m,\u001b[49m\u001b[43m \u001b[49m\u001b[38;5;241;43m*\u001b[39;49m\u001b[38;5;241;43m*\u001b[39;49m\u001b[43mkwargs\u001b[49m\n\u001b[1;32m    261\u001b[0m \u001b[43m    \u001b[49m\u001b[43m)\u001b[49m\n\u001b[1;32m    262\u001b[0m \u001b[38;5;28;01melif\u001b[39;00m engine \u001b[38;5;241m==\u001b[39m \u001b[38;5;124m\"\u001b[39m\u001b[38;5;124mpyogrio\u001b[39m\u001b[38;5;124m\"\u001b[39m:\n\u001b[1;32m    263\u001b[0m     \u001b[38;5;28;01mreturn\u001b[39;00m _read_file_pyogrio(\n\u001b[1;32m    264\u001b[0m         path_or_bytes, bbox\u001b[38;5;241m=\u001b[39mbbox, mask\u001b[38;5;241m=\u001b[39mmask, rows\u001b[38;5;241m=\u001b[39mrows, \u001b[38;5;241m*\u001b[39m\u001b[38;5;241m*\u001b[39mkwargs\n\u001b[1;32m    265\u001b[0m     )\n",
      "File \u001b[0;32m/opt/mamba/lib/python3.10/site-packages/geopandas/io/file.py:303\u001b[0m, in \u001b[0;36m_read_file_fiona\u001b[0;34m(path_or_bytes, from_bytes, bbox, mask, rows, where, **kwargs)\u001b[0m\n\u001b[1;32m    300\u001b[0m     reader \u001b[38;5;241m=\u001b[39m fiona\u001b[38;5;241m.\u001b[39mopen\n\u001b[1;32m    302\u001b[0m \u001b[38;5;28;01mwith\u001b[39;00m fiona_env():\n\u001b[0;32m--> 303\u001b[0m     \u001b[38;5;28;01mwith\u001b[39;00m \u001b[43mreader\u001b[49m\u001b[43m(\u001b[49m\u001b[43mpath_or_bytes\u001b[49m\u001b[43m,\u001b[49m\u001b[43m \u001b[49m\u001b[38;5;241;43m*\u001b[39;49m\u001b[38;5;241;43m*\u001b[39;49m\u001b[43mkwargs\u001b[49m\u001b[43m)\u001b[49m \u001b[38;5;28;01mas\u001b[39;00m features:\n\u001b[1;32m    304\u001b[0m         crs \u001b[38;5;241m=\u001b[39m features\u001b[38;5;241m.\u001b[39mcrs_wkt\n\u001b[1;32m    305\u001b[0m         \u001b[38;5;66;03m# attempt to get EPSG code\u001b[39;00m\n",
      "File \u001b[0;32m/opt/mamba/lib/python3.10/site-packages/fiona/env.py:408\u001b[0m, in \u001b[0;36mensure_env_with_credentials.<locals>.wrapper\u001b[0;34m(*args, **kwargs)\u001b[0m\n\u001b[1;32m    405\u001b[0m \u001b[38;5;129m@wraps\u001b[39m(f)\n\u001b[1;32m    406\u001b[0m \u001b[38;5;28;01mdef\u001b[39;00m \u001b[38;5;21mwrapper\u001b[39m(\u001b[38;5;241m*\u001b[39margs, \u001b[38;5;241m*\u001b[39m\u001b[38;5;241m*\u001b[39mkwargs):\n\u001b[1;32m    407\u001b[0m     \u001b[38;5;28;01mif\u001b[39;00m local\u001b[38;5;241m.\u001b[39m_env:\n\u001b[0;32m--> 408\u001b[0m         \u001b[38;5;28;01mreturn\u001b[39;00m \u001b[43mf\u001b[49m\u001b[43m(\u001b[49m\u001b[38;5;241;43m*\u001b[39;49m\u001b[43margs\u001b[49m\u001b[43m,\u001b[49m\u001b[43m \u001b[49m\u001b[38;5;241;43m*\u001b[39;49m\u001b[38;5;241;43m*\u001b[39;49m\u001b[43mkwargs\u001b[49m\u001b[43m)\u001b[49m\n\u001b[1;32m    409\u001b[0m     \u001b[38;5;28;01melse\u001b[39;00m:\n\u001b[1;32m    410\u001b[0m         \u001b[38;5;28;01mif\u001b[39;00m \u001b[38;5;28misinstance\u001b[39m(args[\u001b[38;5;241m0\u001b[39m], \u001b[38;5;28mstr\u001b[39m):\n",
      "File \u001b[0;32m/opt/mamba/lib/python3.10/site-packages/fiona/__init__.py:264\u001b[0m, in \u001b[0;36mopen\u001b[0;34m(fp, mode, driver, schema, crs, encoding, layer, vfs, enabled_drivers, crs_wkt, **kwargs)\u001b[0m\n\u001b[1;32m    261\u001b[0m     path \u001b[38;5;241m=\u001b[39m parse_path(fp)\n\u001b[1;32m    263\u001b[0m \u001b[38;5;28;01mif\u001b[39;00m mode \u001b[38;5;129;01min\u001b[39;00m (\u001b[38;5;124m'\u001b[39m\u001b[38;5;124ma\u001b[39m\u001b[38;5;124m'\u001b[39m, \u001b[38;5;124m'\u001b[39m\u001b[38;5;124mr\u001b[39m\u001b[38;5;124m'\u001b[39m):\n\u001b[0;32m--> 264\u001b[0m     c \u001b[38;5;241m=\u001b[39m \u001b[43mCollection\u001b[49m\u001b[43m(\u001b[49m\u001b[43mpath\u001b[49m\u001b[43m,\u001b[49m\u001b[43m \u001b[49m\u001b[43mmode\u001b[49m\u001b[43m,\u001b[49m\u001b[43m \u001b[49m\u001b[43mdriver\u001b[49m\u001b[38;5;241;43m=\u001b[39;49m\u001b[43mdriver\u001b[49m\u001b[43m,\u001b[49m\u001b[43m \u001b[49m\u001b[43mencoding\u001b[49m\u001b[38;5;241;43m=\u001b[39;49m\u001b[43mencoding\u001b[49m\u001b[43m,\u001b[49m\n\u001b[1;32m    265\u001b[0m \u001b[43m                   \u001b[49m\u001b[43mlayer\u001b[49m\u001b[38;5;241;43m=\u001b[39;49m\u001b[43mlayer\u001b[49m\u001b[43m,\u001b[49m\u001b[43m \u001b[49m\u001b[43menabled_drivers\u001b[49m\u001b[38;5;241;43m=\u001b[39;49m\u001b[43menabled_drivers\u001b[49m\u001b[43m,\u001b[49m\u001b[43m \u001b[49m\u001b[38;5;241;43m*\u001b[39;49m\u001b[38;5;241;43m*\u001b[39;49m\u001b[43mkwargs\u001b[49m\u001b[43m)\u001b[49m\n\u001b[1;32m    266\u001b[0m \u001b[38;5;28;01melif\u001b[39;00m mode \u001b[38;5;241m==\u001b[39m \u001b[38;5;124m'\u001b[39m\u001b[38;5;124mw\u001b[39m\u001b[38;5;124m'\u001b[39m:\n\u001b[1;32m    267\u001b[0m     \u001b[38;5;28;01mif\u001b[39;00m schema:\n\u001b[1;32m    268\u001b[0m         \u001b[38;5;66;03m# Make an ordered dict of schema properties.\u001b[39;00m\n",
      "File \u001b[0;32m/opt/mamba/lib/python3.10/site-packages/fiona/collection.py:162\u001b[0m, in \u001b[0;36mCollection.__init__\u001b[0;34m(self, path, mode, driver, schema, crs, encoding, layer, vsi, archive, enabled_drivers, crs_wkt, ignore_fields, ignore_geometry, **kwargs)\u001b[0m\n\u001b[1;32m    160\u001b[0m \u001b[38;5;28;01mif\u001b[39;00m \u001b[38;5;28mself\u001b[39m\u001b[38;5;241m.\u001b[39mmode \u001b[38;5;241m==\u001b[39m \u001b[38;5;124m'\u001b[39m\u001b[38;5;124mr\u001b[39m\u001b[38;5;124m'\u001b[39m:\n\u001b[1;32m    161\u001b[0m     \u001b[38;5;28mself\u001b[39m\u001b[38;5;241m.\u001b[39msession \u001b[38;5;241m=\u001b[39m Session()\n\u001b[0;32m--> 162\u001b[0m     \u001b[38;5;28;43mself\u001b[39;49m\u001b[38;5;241;43m.\u001b[39;49m\u001b[43msession\u001b[49m\u001b[38;5;241;43m.\u001b[39;49m\u001b[43mstart\u001b[49m\u001b[43m(\u001b[49m\u001b[38;5;28;43mself\u001b[39;49m\u001b[43m,\u001b[49m\u001b[43m \u001b[49m\u001b[38;5;241;43m*\u001b[39;49m\u001b[38;5;241;43m*\u001b[39;49m\u001b[43mkwargs\u001b[49m\u001b[43m)\u001b[49m\n\u001b[1;32m    163\u001b[0m \u001b[38;5;28;01melif\u001b[39;00m \u001b[38;5;28mself\u001b[39m\u001b[38;5;241m.\u001b[39mmode \u001b[38;5;129;01min\u001b[39;00m (\u001b[38;5;124m'\u001b[39m\u001b[38;5;124ma\u001b[39m\u001b[38;5;124m'\u001b[39m, \u001b[38;5;124m'\u001b[39m\u001b[38;5;124mw\u001b[39m\u001b[38;5;124m'\u001b[39m):\n\u001b[1;32m    164\u001b[0m     \u001b[38;5;28mself\u001b[39m\u001b[38;5;241m.\u001b[39msession \u001b[38;5;241m=\u001b[39m WritingSession()\n",
      "File \u001b[0;32mfiona/ogrext.pyx:540\u001b[0m, in \u001b[0;36mfiona.ogrext.Session.start\u001b[0;34m()\u001b[0m\n",
      "File \u001b[0;32mfiona/_shim.pyx:90\u001b[0m, in \u001b[0;36mfiona._shim.gdal_open_vector\u001b[0;34m()\u001b[0m\n",
      "\u001b[0;31mDriverError\u001b[0m: DEPARTEMENT.shp: No such file or directory"
     ]
    }
   ],
   "source": [
    "shp_departements = gpd.read_file(\"DEPARTEMENT.shp\")"
   ]
  },
  {
   "cell_type": "code",
   "execution_count": null,
   "metadata": {},
   "outputs": [],
   "source": [
    "shp_departements.head()"
   ]
  },
  {
   "cell_type": "code",
   "execution_count": null,
   "metadata": {},
   "outputs": [],
   "source": [
    "shp_departements.crs"
   ]
  },
  {
   "cell_type": "code",
   "execution_count": null,
   "metadata": {},
   "outputs": [],
   "source": [
    "shp_departements = shp_departements[shp_departements[\"INSEE_DEP\"].isin([\"16\", \"17\", \"19\", \"23\", \"24\", \"33\", \"40\", \"47\", \"64\", \"79\", \"86\", \"87\"])]\n",
    "shp_departements.reset_index(drop=True, inplace=True)"
   ]
  },
  {
   "cell_type": "code",
   "execution_count": null,
   "metadata": {},
   "outputs": [],
   "source": [
    "shp_departements.head()"
   ]
  },
  {
   "cell_type": "code",
   "execution_count": null,
   "metadata": {},
   "outputs": [],
   "source": [
    "from shapely.geometry import Point\n",
    "\n",
    "df[\"geometry\"] = df.apply(lambda row: Point(row[\"longitude\"], row[\"latitude\"]), axis=1)"
   ]
  },
  {
   "cell_type": "code",
   "execution_count": null,
   "metadata": {},
   "outputs": [],
   "source": [
    "df = gpd.GeoDataFrame(df)\n",
    "df.crs = 4326\n",
    "df = df.to_crs(2154)"
   ]
  },
  {
   "cell_type": "code",
   "execution_count": null,
   "metadata": {},
   "outputs": [],
   "source": [
    "df.crs"
   ]
  },
  {
   "cell_type": "code",
   "execution_count": null,
   "metadata": {},
   "outputs": [],
   "source": [
    "for k in range(len(shp_departements)):\n",
    "    dep = int(shp_departements.loc[k, \"INSEE_DEP\"])\n",
    "    temp_df = df[df[\"code_departement\"] == dep]\n",
    "    shp_departements.loc[k, \"prix_m2_moyen\"] = temp_df[\"prix_m2\"].mean()"
   ]
  },
  {
   "cell_type": "code",
   "execution_count": null,
   "metadata": {},
   "outputs": [],
   "source": [
    "shp_departements"
   ]
  },
  {
   "cell_type": "code",
   "execution_count": null,
   "metadata": {},
   "outputs": [],
   "source": [
    "import matplotlib.pyplot as plt \n",
    "\n",
    "fig, ax = plt.subplots(figsize=(10, 10))\n",
    "shp_departements.to_crs(3857).plot(\n",
    "    column=\"prix_m2_moyen\", \n",
    "    ax=ax, \n",
    "    edgecolor=\"black\",\n",
    "    cmap='OrRd',\n",
    "    alpha=0.6,\n",
    "    legend=True, \n",
    "    legend_kwds={'label': \"Prix moyen au m² en €\", 'orientation': \"horizontal\"})\n",
    "\n",
    "import contextily as ctx\n",
    "\n",
    "ctx.add_basemap(ax, source=ctx.providers.Stamen.Terrain)\n",
    "\n",
    "ax.set_axis_off()\n",
    "ax.set_title(\"Prix moyen au m² des habitations de la région Nouvelle-Aquitaine\")"
   ]
  },
  {
   "cell_type": "code",
   "execution_count": 24,
   "metadata": {},
   "outputs": [
    {
     "ename": "SyntaxError",
     "evalue": "invalid character '²' (U+00B2) (227605564.py, line 1)",
     "output_type": "error",
     "traceback": [
      "\u001b[0;36m  Cell \u001b[0;32mIn [24], line 1\u001b[0;36m\u001b[0m\n\u001b[0;31m    Selon une approche différente, on fait la carte du prix au m² parcelles par parcelles de la base DVF\u001b[0m\n\u001b[0m                                                                ^\u001b[0m\n\u001b[0;31mSyntaxError\u001b[0m\u001b[0;31m:\u001b[0m invalid character '²' (U+00B2)\n"
     ]
    }
   ],
   "source": [
    "Selon une approche différente, on fait la carte du prix au m² parcelles par parcelles de la base DVF"
   ]
  },
  {
   "cell_type": "code",
   "execution_count": 25,
   "metadata": {},
   "outputs": [
    {
     "name": "stdout",
     "output_type": "stream",
     "text": [
      "Requirement already satisfied: geoplot in /opt/mamba/lib/python3.10/site-packages (0.5.1)\n",
      "Requirement already satisfied: matplotlib>=3.1.2 in /opt/mamba/lib/python3.10/site-packages (from geoplot) (3.6.2)\n",
      "Requirement already satisfied: seaborn in /opt/mamba/lib/python3.10/site-packages (from geoplot) (0.12.1)\n",
      "Requirement already satisfied: pandas in /opt/mamba/lib/python3.10/site-packages (from geoplot) (1.5.1)\n",
      "Requirement already satisfied: contextily>=1.0.0 in /opt/mamba/lib/python3.10/site-packages (from geoplot) (1.2.0)\n",
      "Requirement already satisfied: mapclassify>=2.1 in /opt/mamba/lib/python3.10/site-packages (from geoplot) (2.4.3)\n",
      "Requirement already satisfied: geopandas>=0.9.0 in /opt/mamba/lib/python3.10/site-packages (from geoplot) (0.12.1)\n",
      "Requirement already satisfied: cartopy in /opt/mamba/lib/python3.10/site-packages (from geoplot) (0.21.1)\n",
      "Requirement already satisfied: joblib in /opt/mamba/lib/python3.10/site-packages (from contextily>=1.0.0->geoplot) (1.2.0)\n",
      "Requirement already satisfied: xyzservices in /opt/mamba/lib/python3.10/site-packages (from contextily>=1.0.0->geoplot) (2022.9.0)\n",
      "Requirement already satisfied: requests in /opt/mamba/lib/python3.10/site-packages (from contextily>=1.0.0->geoplot) (2.28.1)\n",
      "Requirement already satisfied: rasterio in /opt/mamba/lib/python3.10/site-packages (from contextily>=1.0.0->geoplot) (1.3.4)\n",
      "Requirement already satisfied: geopy in /opt/mamba/lib/python3.10/site-packages (from contextily>=1.0.0->geoplot) (2.3.0)\n",
      "Requirement already satisfied: pillow in /opt/mamba/lib/python3.10/site-packages (from contextily>=1.0.0->geoplot) (9.2.0)\n",
      "Requirement already satisfied: mercantile in /opt/mamba/lib/python3.10/site-packages (from contextily>=1.0.0->geoplot) (1.2.1)\n",
      "Requirement already satisfied: shapely>=1.7 in /opt/mamba/lib/python3.10/site-packages (from geopandas>=0.9.0->geoplot) (1.8.5.post1)\n",
      "Requirement already satisfied: fiona>=1.8 in /opt/mamba/lib/python3.10/site-packages (from geopandas>=0.9.0->geoplot) (1.8.22)\n",
      "Requirement already satisfied: packaging in /opt/mamba/lib/python3.10/site-packages (from geopandas>=0.9.0->geoplot) (21.3)\n",
      "Requirement already satisfied: pyproj>=2.6.1.post1 in /opt/mamba/lib/python3.10/site-packages (from geopandas>=0.9.0->geoplot) (3.4.0)\n",
      "Requirement already satisfied: scikit-learn in /opt/mamba/lib/python3.10/site-packages (from mapclassify>=2.1->geoplot) (1.1.3)\n",
      "Requirement already satisfied: scipy>=1.0 in /opt/mamba/lib/python3.10/site-packages (from mapclassify>=2.1->geoplot) (1.9.3)\n",
      "Requirement already satisfied: numpy>=1.3 in /opt/mamba/lib/python3.10/site-packages (from mapclassify>=2.1->geoplot) (1.23.5)\n",
      "Requirement already satisfied: networkx in /opt/mamba/lib/python3.10/site-packages (from mapclassify>=2.1->geoplot) (2.8.8)\n",
      "Requirement already satisfied: pyparsing>=2.2.1 in /opt/mamba/lib/python3.10/site-packages (from matplotlib>=3.1.2->geoplot) (3.0.9)\n",
      "Requirement already satisfied: python-dateutil>=2.7 in /opt/mamba/lib/python3.10/site-packages (from matplotlib>=3.1.2->geoplot) (2.8.2)\n",
      "Requirement already satisfied: cycler>=0.10 in /opt/mamba/lib/python3.10/site-packages (from matplotlib>=3.1.2->geoplot) (0.11.0)\n",
      "Requirement already satisfied: kiwisolver>=1.0.1 in /opt/mamba/lib/python3.10/site-packages (from matplotlib>=3.1.2->geoplot) (1.4.4)\n",
      "Requirement already satisfied: fonttools>=4.22.0 in /opt/mamba/lib/python3.10/site-packages (from matplotlib>=3.1.2->geoplot) (4.38.0)\n",
      "Requirement already satisfied: contourpy>=1.0.1 in /opt/mamba/lib/python3.10/site-packages (from matplotlib>=3.1.2->geoplot) (1.0.6)\n",
      "Requirement already satisfied: pytz>=2020.1 in /opt/mamba/lib/python3.10/site-packages (from pandas->geoplot) (2022.6)\n",
      "Requirement already satisfied: pyshp>=2.1 in /opt/mamba/lib/python3.10/site-packages (from cartopy->geoplot) (2.3.1)\n",
      "Requirement already satisfied: setuptools in /opt/mamba/lib/python3.10/site-packages (from fiona>=1.8->geopandas>=0.9.0->geoplot) (65.5.1)\n",
      "Requirement already satisfied: certifi in /opt/mamba/lib/python3.10/site-packages (from fiona>=1.8->geopandas>=0.9.0->geoplot) (2022.9.24)\n",
      "Requirement already satisfied: click>=4.0 in /opt/mamba/lib/python3.10/site-packages (from fiona>=1.8->geopandas>=0.9.0->geoplot) (8.1.3)\n",
      "Requirement already satisfied: click-plugins>=1.0 in /opt/mamba/lib/python3.10/site-packages (from fiona>=1.8->geopandas>=0.9.0->geoplot) (1.1.1)\n",
      "Requirement already satisfied: cligj>=0.5 in /opt/mamba/lib/python3.10/site-packages (from fiona>=1.8->geopandas>=0.9.0->geoplot) (0.7.2)\n",
      "Requirement already satisfied: munch in /opt/mamba/lib/python3.10/site-packages (from fiona>=1.8->geopandas>=0.9.0->geoplot) (2.5.0)\n",
      "Requirement already satisfied: attrs>=17 in /opt/mamba/lib/python3.10/site-packages (from fiona>=1.8->geopandas>=0.9.0->geoplot) (22.1.0)\n",
      "Requirement already satisfied: six>=1.7 in /opt/mamba/lib/python3.10/site-packages (from fiona>=1.8->geopandas>=0.9.0->geoplot) (1.16.0)\n",
      "Requirement already satisfied: geographiclib<3,>=1.52 in /opt/mamba/lib/python3.10/site-packages (from geopy->contextily>=1.0.0->geoplot) (2.0)\n",
      "Requirement already satisfied: snuggs>=1.4.1 in /opt/mamba/lib/python3.10/site-packages (from rasterio->contextily>=1.0.0->geoplot) (1.4.7)\n",
      "Requirement already satisfied: affine in /opt/mamba/lib/python3.10/site-packages (from rasterio->contextily>=1.0.0->geoplot) (2.3.1)\n",
      "Requirement already satisfied: urllib3<1.27,>=1.21.1 in /opt/mamba/lib/python3.10/site-packages (from requests->contextily>=1.0.0->geoplot) (1.26.13)\n",
      "Requirement already satisfied: idna<4,>=2.5 in /opt/mamba/lib/python3.10/site-packages (from requests->contextily>=1.0.0->geoplot) (3.4)\n",
      "Requirement already satisfied: charset-normalizer<3,>=2 in /opt/mamba/lib/python3.10/site-packages (from requests->contextily>=1.0.0->geoplot) (2.1.1)\n",
      "Requirement already satisfied: threadpoolctl>=2.0.0 in /opt/mamba/lib/python3.10/site-packages (from scikit-learn->mapclassify>=2.1->geoplot) (3.1.0)\n"
     ]
    }
   ],
   "source": [
    "!pip install geoplot"
   ]
  },
  {
   "cell_type": "code",
   "execution_count": 26,
   "metadata": {},
   "outputs": [],
   "source": [
    "import geoplot\n",
    "import folium"
   ]
  },
  {
   "cell_type": "code",
   "execution_count": 27,
   "metadata": {},
   "outputs": [
    {
     "name": "stdout",
     "output_type": "stream",
     "text": [
      "[45.24001242237046, -0.019343645360024933]\n",
      "[42.795583, -1.784313]\n",
      "[47.149812, 2.59199]\n"
     ]
    }
   ],
   "source": [
    "center = df[['latitude', 'longitude']].mean().values.tolist()\n",
    "print(center)\n",
    "sw = df[['latitude', 'longitude']].min().values.tolist()\n",
    "print(sw)\n",
    "ne = df[['latitude', 'longitude']].max().values.tolist()\n",
    "print(ne)"
   ]
  },
  {
   "cell_type": "code",
   "execution_count": null,
   "metadata": {},
   "outputs": [],
   "source": [
    "m = folium.Map(location = center, tiles='Stamen Toner')\n",
    "\n",
    "# On ajoute les parcelles une par une sur la carte\n",
    "for i in range(0,len(df)):\n",
    "   folium.Circle(\n",
    "      location=[df.iloc[i]['latitude'], df.iloc[i]['longitude']],\n",
    "      popup= \"Prix du m² :\" + str(df.iloc[i]['prix_m2'].round()),\n",
    "      radius=10,\n",
    "      gradient={1: 'blue', 30: 'lime', 1000: 'red'},\n",
    "      weight = 1,\n",
    "   ).add_to(m)\n",
    "\n",
    "m.fit_bounds([sw, ne])\n",
    "m"
   ]
  }
 ],
 "metadata": {
  "kernelspec": {
   "display_name": "Python 3 (ipykernel)",
   "language": "python",
   "name": "python3"
  },
  "language_info": {
   "codemirror_mode": {
    "name": "ipython",
    "version": 3
   },
   "file_extension": ".py",
   "mimetype": "text/x-python",
   "name": "python",
   "nbconvert_exporter": "python",
   "pygments_lexer": "ipython3",
   "version": "3.10.4"
  },
  "vscode": {
   "interpreter": {
    "hash": "0837c284d850b08d864743b6a9e36260955d144584324a6527eeb1b9f74ab8ce"
   }
  }
 },
 "nbformat": 4,
 "nbformat_minor": 4
}
